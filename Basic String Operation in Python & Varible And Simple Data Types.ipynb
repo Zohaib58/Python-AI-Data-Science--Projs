{
 "cells": [
  {
   "cell_type": "markdown",
   "metadata": {},
   "source": [
    "# 2-2. Simple Messages: Store a message in a variable, and print that message. Then change the value of your variable to a new message, and print the new message."
   ]
  },
  {
   "cell_type": "code",
   "execution_count": 1,
   "metadata": {},
   "outputs": [
    {
     "name": "stdout",
     "output_type": "stream",
     "text": [
      "Hello! How are you?\n",
      "What are you doing?\n"
     ]
    }
   ],
   "source": [
    "msg = \"Hello! How are you?\"\n",
    "print(msg)\n",
    "msg = \"What are you doing?\"\n",
    "print(msg)"
   ]
  },
  {
   "cell_type": "markdown",
   "metadata": {},
   "source": [
    "# 2-3. Personal Message: Store a person’s name in a variable, and print a message to that person. Your message should be simple, such as, “Hello Eric, would you like to learn some Python today?”"
   ]
  },
  {
   "cell_type": "code",
   "execution_count": 2,
   "metadata": {},
   "outputs": [
    {
     "name": "stdout",
     "output_type": "stream",
     "text": [
      "Please Enter your Name: \n",
      "Hello, ! Would you like to have some ice-cream?\n"
     ]
    }
   ],
   "source": [
    "#### Personal Message ####\n",
    "name = str(input(\"Please Enter your Name: \"))# Taking user's name as input and converting it into string\n",
    "print(\"Hello, \" +  name + \"! \" + \"Would you like to have some ice-cream?\")"
   ]
  },
  {
   "cell_type": "markdown",
   "metadata": {},
   "source": [
    "# 2-4. Name Cases: Store a person’s name in a variable, and then print that person’s name in lowercase, uppercase, and titlecase."
   ]
  },
  {
   "cell_type": "code",
   "execution_count": 3,
   "metadata": {},
   "outputs": [
    {
     "name": "stdout",
     "output_type": "stream",
     "text": [
      "Please Enter your Name: \n",
      "\n",
      "\n",
      "\n"
     ]
    }
   ],
   "source": [
    "#### Name Cases ####\n",
    "name = str(input(\"Please Enter your Name: \"))# Taking user's name as input and converting it into string\n",
    "print(name.title())\n",
    "print(name.lower())\n",
    "print(name.upper())"
   ]
  },
  {
   "cell_type": "markdown",
   "metadata": {},
   "source": [
    "# 2-5. Famous Quote: Find a quote from a famous person you admire. Print the quote and the name of its author. Your output should look something like the following, including the quotation marks:\n",
    "Albert Einstein once said, “A person who never made a\n",
    "mistake never tried anything new."
   ]
  },
  {
   "cell_type": "code",
   "execution_count": 4,
   "metadata": {},
   "outputs": [
    {
     "name": "stdout",
     "output_type": "stream",
     "text": [
      "Someone said, \"As you sow so shall you reap\"\n",
      "Someone said, \"As you sow so shall you reap\"\n"
     ]
    }
   ],
   "source": [
    "#### Famous Quote ####\n",
    "print('Someone said, \"As you sow so shall you reap\"')\n",
    "#### Famous Quote 2 ####\n",
    "name = \"Someone\"\n",
    "print(name + ' said, \"As you sow so shall you reap\"')"
   ]
  },
  {
   "cell_type": "markdown",
   "metadata": {},
   "source": [
    "# 2-7. Stripping Names: Store a person’s name, and include some whitespace characters at the beginning and end of the name. Make sure you use each character combination, \"\\t\" and \"\\n\", at least once. Print the name once, so the whitespace around the name is displayed. Then print the name using each of the three stripping functions, lstrip(), rstrip(), and strip()."
   ]
  },
  {
   "cell_type": "code",
   "execution_count": 5,
   "metadata": {},
   "outputs": [
    {
     "name": "stdout",
     "output_type": "stream",
     "text": [
      "\n",
      "\t\t\t\tAli\t\t\t\t\n",
      "\n",
      "\t\t\t\tAli\n",
      "Ali\t\t\t\t\n",
      "Ali\n"
     ]
    }
   ],
   "source": [
    "#### Stripping Names ####\n",
    "name = \"\\n\\t\\t\\t\\tAli\\t\\t\\t\\t\"\n",
    "print(name) # Unmodified\n",
    "print(name.rstrip()) # Removing spaces from right\n",
    "print(name.lstrip()) # Removing spaces from left\n",
    "print(name.strip()) "
   ]
  },
  {
   "cell_type": "markdown",
   "metadata": {},
   "source": [
    "# 2-9. Favorite Number: Store your favorite number in a variable. Then, using that variable, create a message that reveals your favorite number. Print that message."
   ]
  },
  {
   "cell_type": "code",
   "execution_count": 6,
   "metadata": {},
   "outputs": [
    {
     "name": "stdout",
     "output_type": "stream",
     "text": [
      "My favorite number is 16.\n"
     ]
    }
   ],
   "source": [
    "favorite_num = 16 \n",
    "message = \"My favorite number is \" + str(favorite_num) + \".\"\n",
    "\n",
    "print(message)"
   ]
  }
 ],
 "metadata": {
  "kernelspec": {
   "display_name": "Python 3",
   "language": "python",
   "name": "python3"
  },
  "language_info": {
   "codemirror_mode": {
    "name": "ipython",
    "version": 3
   },
   "file_extension": ".py",
   "mimetype": "text/x-python",
   "name": "python",
   "nbconvert_exporter": "python",
   "pygments_lexer": "ipython3",
   "version": "3.7.6"
  }
 },
 "nbformat": 4,
 "nbformat_minor": 4
}
